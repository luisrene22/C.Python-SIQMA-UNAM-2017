{
 "cells": [
  {
   "cell_type": "markdown",
   "metadata": {},
   "source": [
    "# Archivos"
   ]
  },
  {
   "cell_type": "code",
   "execution_count": 3,
   "metadata": {},
   "outputs": [
    {
     "name": "stdout",
     "output_type": "stream",
     "text": [
      "<_io.TextIOWrapper name='Archivo' mode='a' encoding='UTF-8'>\n"
     ]
    }
   ],
   "source": [
    "archivo1 = open('Archivo.txt','a')\n",
    "print(archivo1)\n",
    "archivo1.write('python')\n",
    "archivo1.close()"
   ]
  },
  {
   "cell_type": "markdown",
   "metadata": {},
   "source": [
    "modificacion de un archivo desde python"
   ]
  },
  {
   "cell_type": "markdown",
   "metadata": {},
   "source": [
    "# POO (programación orientada a objetos)"
   ]
  },
  {
   "cell_type": "code",
   "execution_count": 12,
   "metadata": {},
   "outputs": [
    {
     "name": "stdout",
     "output_type": "stream",
     "text": [
      "2\n",
      "3\n"
     ]
    }
   ],
   "source": [
    "class Esfera:\n",
    "    radio = 0\n",
    "    \n",
    "\n",
    "e1 = Esfera()\n",
    "e1.radio = 2\n",
    "\n",
    "e2 = Esfera()\n",
    "e2.radio =3\n",
    "\n",
    "print(e1.radio)\n",
    "print(e2.radio)"
   ]
  },
  {
   "cell_type": "code",
   "execution_count": 15,
   "metadata": {},
   "outputs": [
    {
     "name": "stdout",
     "output_type": "stream",
     "text": [
      "se esta graficando\n",
      "esfera r= 2\n",
      "se esta graficando\n",
      "esfera r= 3\n",
      "2\n",
      "3\n"
     ]
    }
   ],
   "source": [
    "class Esfera:\n",
    "    radio = 0\n",
    "    \n",
    "    def graficar(self):\n",
    "        print('se esta graficando')\n",
    "        print('esfera r=',self.radio)\n",
    "    \n",
    "\n",
    "e1 = Esfera()\n",
    "e1.radio = 2\n",
    "e1.graficar()\n",
    "\n",
    "e2 = Esfera()\n",
    "e2.radio =3\n",
    "e2.graficar()\n",
    "\n",
    "print(e1.radio)\n",
    "print(e2.radio)"
   ]
  },
  {
   "cell_type": "code",
   "execution_count": 23,
   "metadata": {},
   "outputs": [
    {
     "name": "stdout",
     "output_type": "stream",
     "text": [
      "2 5\n"
     ]
    }
   ],
   "source": [
    "#Encapsulamiento\n",
    "class Vector:\n",
    "    _magnitud = 0 # ---> la _ es una restricción para el ususario o variable protejida\n",
    "    dirección = 0 # ---> la __ es para una variable privada\n",
    "    \n",
    "    def cambiarMagnitud(self,nuevaMagnitud):\n",
    "        self._magnitud=nuevaMagnitud\n",
    "    def obtenerMagnitud(self):\n",
    "        return self._magnitud\n",
    "\n",
    "v1 = Vector()\n",
    "v1._magnitud=2\n",
    "v1.dirección = 5\n",
    "\n",
    "print(v1._magnitud, v1.dirección)\n"
   ]
  },
  {
   "cell_type": "code",
   "execution_count": 34,
   "metadata": {},
   "outputs": [
    {
     "name": "stdout",
     "output_type": "stream",
     "text": [
      "['metal'] 2\n"
     ]
    }
   ],
   "source": [
    "class Pelota:\n",
    "    materiales = []\n",
    "    \n",
    "    def __init__(self,radio):\n",
    "        self.radio = radio\n",
    "        self.materiales =[]\n",
    "\n",
    "p1 = Pelota(2)\n",
    "p2 = Pelota(8)\n",
    "\n",
    "p1.materiales.append('metal')\n",
    "\n",
    "print(p1.materiales,p1.radio)"
   ]
  },
  {
   "cell_type": "code",
   "execution_count": 45,
   "metadata": {},
   "outputs": [
    {
     "name": "stdout",
     "output_type": "stream",
     "text": [
      "3 5\n",
      "se esta graficando\n"
     ]
    }
   ],
   "source": [
    "def graficar():\n",
    "    print('se esta graficando')\n",
    "    \n",
    "\n",
    "class Particula:\n",
    "    pass\n",
    "\n",
    "p1 = Particula()\n",
    "p1.masa = 3\n",
    "p1.volumen = 8\n",
    "p1.g=graficar\n",
    "\n",
    "p2 = Particula()\n",
    "p2.masa = 5\n",
    "p2.volumen = 10\n",
    "\n",
    "print(p1.masa,p2.masa)\n",
    "p1.g()"
   ]
  },
  {
   "cell_type": "code",
   "execution_count": 56,
   "metadata": {},
   "outputs": [
    {
     "name": "stdout",
     "output_type": "stream",
     "text": [
      "(1,4)\n"
     ]
    }
   ],
   "source": [
    "class Complejo:\n",
    "    \n",
    "    def __init__(self,real,imag):\n",
    "        self.real = real\n",
    "        self.imag = imag\n",
    "    \n",
    "    def __add__(self,other):\n",
    "        return Complejo(self.real+other.real,self.imag)\n",
    "    \n",
    "    def __str__(self):\n",
    "        return '('+str(self.real)+','+str(self.imag)+')'\n",
    "        \n",
    "c1=Complejo(2,4)\n",
    "c2=Complejo(-1,5)\n",
    "\n",
    "c3 = c1+c2\n",
    "\n",
    "print(c3)"
   ]
  },
  {
   "cell_type": "code",
   "execution_count": 59,
   "metadata": {},
   "outputs": [
    {
     "name": "stdout",
     "output_type": "stream",
     "text": [
      "False\n"
     ]
    }
   ],
   "source": [
    "class Complejo:\n",
    "    \n",
    "    def __init__(self,real,imag):\n",
    "        self.real = real\n",
    "        self.imag = imag\n",
    "    \n",
    "    def __add__(self,other):\n",
    "        return Complejo(self.real+other.real,self.imag)\n",
    "    \n",
    "    def __str__(self):\n",
    "        return '('+str(self.real)+','+str(self.imag)+')'\n",
    "    def __eq__(self,other):\n",
    "        return self.real == other.real and self.imag == other.imag\n",
    "        \n",
    "c1=Complejo(2,4)\n",
    "c2=Complejo(-1,5)\n",
    "\n",
    "c3 = c1+c2\n",
    "\n",
    "print(c1 == c2)"
   ]
  },
  {
   "cell_type": "code",
   "execution_count": null,
   "metadata": {
    "collapsed": true
   },
   "outputs": [],
   "source": []
  },
  {
   "cell_type": "code",
   "execution_count": null,
   "metadata": {
    "collapsed": true
   },
   "outputs": [],
   "source": []
  }
 ],
 "metadata": {
  "kernelspec": {
   "display_name": "Python 3",
   "language": "python",
   "name": "python3"
  },
  "language_info": {
   "codemirror_mode": {
    "name": "ipython",
    "version": 3
   },
   "file_extension": ".py",
   "mimetype": "text/x-python",
   "name": "python",
   "nbconvert_exporter": "python",
   "pygments_lexer": "ipython3",
   "version": "3.6.3"
  }
 },
 "nbformat": 4,
 "nbformat_minor": 2
}
