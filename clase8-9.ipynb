{
 "cells": [
  {
   "cell_type": "markdown",
   "metadata": {},
   "source": [
    "# Evaluación Numerica"
   ]
  },
  {
   "cell_type": "code",
   "execution_count": 69,
   "metadata": {
    "collapsed": true
   },
   "outputs": [],
   "source": [
    "import numpy as np\n",
    "import math\n",
    "import matplotlib.pyplot as plt\n",
    "from sympy import *"
   ]
  },
  {
   "cell_type": "code",
   "execution_count": 70,
   "metadata": {
    "collapsed": true
   },
   "outputs": [],
   "source": [
    "%matplotlib inline\n",
    "#%matplotlib auto"
   ]
  },
  {
   "cell_type": "code",
   "execution_count": 71,
   "metadata": {
    "collapsed": true
   },
   "outputs": [],
   "source": [
    "# Aproximación de π"
   ]
  },
  {
   "cell_type": "code",
   "execution_count": 72,
   "metadata": {
    "collapsed": true
   },
   "outputs": [],
   "source": [
    "def pi(nmax = 10, emax=1e-3):\n",
    "    s = 0\n",
    "    n = 0\n",
    "    s = s +(2**n*math.factorial(n)**2)/math.factorial(2*n+1)\n",
    "    pi_old=2*s\n",
    "    for n in range(1,nmax):\n",
    "        s = s +(2**n*math.factorial(n)**2)/math.factorial(2*n+1)\n",
    "        pi_new = 2*s\n",
    "        e = abs(pi_new-pi_old)\n",
    "        if e<emax:\n",
    "            break\n",
    "        pi_old = pi_new\n",
    "    return pi_new,n"
   ]
  },
  {
   "cell_type": "code",
   "execution_count": 73,
   "metadata": {},
   "outputs": [
    {
     "data": {
      "text/plain": [
       "(3.140578169680336, 9)"
      ]
     },
     "execution_count": 73,
     "metadata": {},
     "output_type": "execute_result"
    }
   ],
   "source": [
    "pi()"
   ]
  },
  {
   "cell_type": "code",
   "execution_count": 74,
   "metadata": {
    "collapsed": true
   },
   "outputs": [],
   "source": [
    "# calculadora de ecs de 2do grado."
   ]
  },
  {
   "cell_type": "code",
   "execution_count": 75,
   "metadata": {
    "collapsed": true
   },
   "outputs": [],
   "source": [
    "a = 1\n",
    "b = 0\n",
    "c = -1\n",
    "\n",
    "def sol_2do_grado(a,b,c):\n",
    "    if a==0:\n",
    "        x=-c/b\n",
    "        return x\n",
    "    else:\n",
    "        d = b**2-4*a*c\n",
    "        if d<0:\n",
    "            print('imag')\n",
    "            x1 = complex(-b,(-d)**.5)/(2*a)\n",
    "            x2 = complex(-b,-(-d)**.5)/(2*a)\n",
    "        else: \n",
    "            print('reales')\n",
    "            x1 = (-b+d**.5)/(2*a)\n",
    "            x2 = (-b+d**.5)/(2*a)\n",
    "        return x1,x2"
   ]
  },
  {
   "cell_type": "code",
   "execution_count": 76,
   "metadata": {},
   "outputs": [
    {
     "name": "stdout",
     "output_type": "stream",
     "text": [
      "reales\n"
     ]
    },
    {
     "data": {
      "text/plain": [
       "(-0.4384471871911697, -0.4384471871911697)"
      ]
     },
     "execution_count": 76,
     "metadata": {},
     "output_type": "execute_result"
    }
   ],
   "source": [
    "sol_2do_grado(1,5,2)"
   ]
  },
  {
   "cell_type": "code",
   "execution_count": 77,
   "metadata": {
    "collapsed": true
   },
   "outputs": [],
   "source": [
    "# Metodo"
   ]
  },
  {
   "cell_type": "code",
   "execution_count": 78,
   "metadata": {},
   "outputs": [
    {
     "data": {
      "text/plain": [
       "<function matplotlib.pyplot.show>"
      ]
     },
     "execution_count": 78,
     "metadata": {},
     "output_type": "execute_result"
    },
    {
     "data": {
      "image/png": "[encoded data removed]",
      "text/plain": [
       "<matplotlib.figure.Figure at 0x110171be0>"
      ]
     },
     "metadata": {},
     "output_type": "display_data"
    }
   ],
   "source": [
    "def f(x):\n",
    "    return np.sin(2*x+1)-3*x/5+1\n",
    "\n",
    "x = np.linspace(0,10)\n",
    "plt.plot(x,f(x))\n",
    "plt.grid(True)\n",
    "plt.show"
   ]
  },
  {
   "cell_type": "code",
   "execution_count": 79,
   "metadata": {
    "collapsed": true
   },
   "outputs": [],
   "source": [
    "# Bisección raices"
   ]
  },
  {
   "cell_type": "code",
   "execution_count": 80,
   "metadata": {},
   "outputs": [
    {
     "name": "stdout",
     "output_type": "stream",
     "text": [
      "1.2096731607846891 3.33066907388e-16\n"
     ]
    },
    {
     "data": {
      "image/png": "[encoded data removed]",
      "text/plain": [
       "<matplotlib.figure.Figure at 0x110049e80>"
      ]
     },
     "metadata": {},
     "output_type": "display_data"
    }
   ],
   "source": [
    "def f(x):\n",
    "    return np.sin(2*x+1)-3*x/5+1\n",
    "\n",
    "xinc = 0.\n",
    "xfin = 2.\n",
    "N = 100\n",
    "\n",
    "for k in range(N):\n",
    "    xr = (xinc+xfin)/2\n",
    "    if f(xr)*f(xfin)<0:\n",
    "        xinc = xr\n",
    "    elif f(xr)*f(xinc)<0:\n",
    "        xfin = xr\n",
    "    elif f(xr)==0:\n",
    "        break\n",
    "\n",
    "print(xr,f(xr))\n",
    "\n",
    "x = np.linspace(0,2)\n",
    "plt.plot(x,f(x))\n",
    "plt.plot(xr,f(xr),'ro')\n",
    "plt.grid(True)\n",
    "plt.show()\n"
   ]
  },
  {
   "cell_type": "code",
   "execution_count": 81,
   "metadata": {
    "collapsed": true
   },
   "outputs": [],
   "source": [
    "# Metodo de Newton-Raphson"
   ]
  },
  {
   "cell_type": "code",
   "execution_count": 82,
   "metadata": {},
   "outputs": [
    {
     "name": "stdout",
     "output_type": "stream",
     "text": [
      "-39968.0539657 23981.4205567\n"
     ]
    },
    {
     "data": {
      "image/png": "[encoded data removed]",
      "text/plain": [
       "<matplotlib.figure.Figure at 0x110277fd0>"
      ]
     },
     "metadata": {},
     "output_type": "display_data"
    }
   ],
   "source": [
    "def f(x):\n",
    "    return np.sin(2*x+1)-3*x/5+1\n",
    "def fp(x):\n",
    "    return 2*np.cos(2*x+1)-3/5\n",
    "\n",
    "xr = 2\n",
    "N = 100\n",
    "\n",
    "for k in range(N):\n",
    "    xr = xr-f(xr)/fp(xr)\n",
    "\n",
    "print(xr,f(xr))\n",
    "\n",
    "x = np.linspace(0,2)\n",
    "plt.plot(x,f(x))\n",
    "plt.plot(xr,f(xr),'ro')\n",
    "plt.grid(True)\n",
    "plt.show()\n",
    "\n",
    "\n"
   ]
  },
  {
   "cell_type": "code",
   "execution_count": 83,
   "metadata": {
    "collapsed": true
   },
   "outputs": [],
   "source": [
    "# Como resolver sistemas de ecuaciones Ax=b"
   ]
  },
  {
   "cell_type": "code",
   "execution_count": 84,
   "metadata": {},
   "outputs": [
    {
     "name": "stdout",
     "output_type": "stream",
     "text": [
      "[ 1.66666667  0.66666667]\n",
      "[ 0.  0.]\n"
     ]
    }
   ],
   "source": [
    "A = np.array([[1,-1],[1.,2]])\n",
    "b = np.array([1,3])\n",
    "\n",
    "Ainv = np.linalg.inv(A)\n",
    "x =Ainv.dot(b)\n",
    "print(x)\n",
    "print(A.dot(x)-b)\n"
   ]
  },
  {
   "cell_type": "code",
   "execution_count": 85,
   "metadata": {
    "collapsed": true
   },
   "outputs": [],
   "source": [
    "# Metodo de Cramer"
   ]
  },
  {
   "cell_type": "code",
   "execution_count": 86,
   "metadata": {},
   "outputs": [
    {
     "name": "stdout",
     "output_type": "stream",
     "text": [
      "[ 0.  0.]\n",
      "[ 1.66666667  0.66666667]\n"
     ]
    }
   ],
   "source": [
    "A = np.array([[1,-1],[1.,2]])\n",
    "b = np.array([1,3])\n",
    "\n",
    "Ainv = np.linalg.inv(A)\n",
    "x =Ainv.dot(b)\n",
    "print(A.dot(x)-b)\n",
    "print(x)"
   ]
  },
  {
   "cell_type": "code",
   "execution_count": 87,
   "metadata": {
    "collapsed": true
   },
   "outputs": [],
   "source": [
    "# Metodo de Newton-Raphson (para niños grandes)"
   ]
  },
  {
   "cell_type": "code",
   "execution_count": 88,
   "metadata": {},
   "outputs": [
    {
     "name": "stdout",
     "output_type": "stream",
     "text": [
      "[ 0.91855865  0.39528471]\n",
      "[ 0.  0.]\n"
     ]
    }
   ],
   "source": [
    "def F(x):\n",
    "    return np.array([x[0]**2+x[1]**2-1,4*x[0]**2/9+4*x[1]**2-1])\n",
    "\n",
    "def J(x):\n",
    "    return np.array ([[2*x[0],2*x[1]],[8*x[0]/9,8*x[1]]])\n",
    "\n",
    "x = np.array([1.,1])\n",
    "N = 10\n",
    "\n",
    "for k in range(N):\n",
    "    Jinv = np.linalg.inv(J(x))\n",
    "    x = x-np.dot(Jinv,F(x))\n",
    "\n",
    "print(x)\n",
    "print(F(x))"
   ]
  },
  {
   "cell_type": "code",
   "execution_count": 89,
   "metadata": {},
   "outputs": [
    {
     "name": "stdout",
     "output_type": "stream",
     "text": [
      "[ 0.5         0.66666667]\n"
     ]
    }
   ],
   "source": [
    "x = np.array([1,2,3])\n",
    "y = np.array([1,2,2])\n",
    "\n",
    "A = np.ones((len(x),2))\n",
    "A.T[0] = x\n",
    "\n",
    "M = np.dot(A.T,A)\n",
    "Minv = np.linalg.inv(M)\n",
    "\n",
    "c = np.dot(A.T,y)\n",
    "\n",
    "u = np.dot(Minv,c)\n",
    "\n",
    "print(u) # [pendiente y ordenada]\n"
   ]
  },
  {
   "cell_type": "code",
   "execution_count": 90,
   "metadata": {},
   "outputs": [
    {
     "name": "stdout",
     "output_type": "stream",
     "text": [
      "[  3.55271368e-15   6.00000000e-01   5.00000000e-01]\n"
     ]
    }
   ],
   "source": [
    "x = np.array([1,2,3,4])\n",
    "y = np.array([1,2,2,3])\n",
    "\n",
    "A = np.ones((len(x),3))\n",
    "A.T[0] = x**2\n",
    "A.T[1] = x\n",
    "\n",
    "M = np.dot(A.T,A)\n",
    "Minv = np.linalg.inv(M)\n",
    "\n",
    "c = np.dot(A.T,y)\n",
    "\n",
    "u = np.dot(Minv,c)\n",
    "\n",
    "print(u) # \n"
   ]
  },
  {
   "cell_type": "code",
   "execution_count": 91,
   "metadata": {
    "collapsed": true
   },
   "outputs": [],
   "source": [
    "#Interpolación"
   ]
  },
  {
   "cell_type": "code",
   "execution_count": 92,
   "metadata": {},
   "outputs": [
    {
     "name": "stdout",
     "output_type": "stream",
     "text": [
      "[-0.5  2.5 -1. ]\n"
     ]
    }
   ],
   "source": [
    "x = np.array([1,2,3])\n",
    "y = np.array([1,2,2])\n",
    "\n",
    "A = np.ones((len(x),len(x)))\n",
    "A.T[0] = x**2\n",
    "A.T[1] = x\n",
    "\n",
    "Ainv = np.linalg.inv(A)\n",
    "u = np.dot(Ainv,y)\n",
    "\n",
    "print(u)  \n"
   ]
  },
  {
   "cell_type": "markdown",
   "metadata": {},
   "source": [
    "# Derivada y Integral numerica"
   ]
  },
  {
   "cell_type": "code",
   "execution_count": 93,
   "metadata": {},
   "outputs": [
    {
     "name": "stdout",
     "output_type": "stream",
     "text": [
      "1.0\n",
      "[-25.  -5.   1.  11.  43.]\n"
     ]
    },
    {
     "data": {
      "image/png": "[encoded data removed]",
      "text/plain": [
       "<matplotlib.figure.Figure at 0x1103edcf8>"
      ]
     },
     "metadata": {},
     "output_type": "display_data"
    }
   ],
   "source": [
    "def f(x):\n",
    "    return 3*x**3+2*x**2+5*x+1\n",
    "\n",
    "def fp(x):\n",
    "    return 9*x**2+4*x+5\n",
    "\n",
    "N = 5\n",
    "xinc = -2\n",
    "xfin = 2\n",
    "\n",
    "x = np.linspace(-2,2,N)\n",
    "L = xfin-xinc\n",
    "dx = L/(N-1)\n",
    "\n",
    "print(dx)\n",
    "\n",
    "y = f(x)\n",
    "\n",
    "print(y)\n",
    "\n",
    "yp = np.zeros(N)\n",
    "\n",
    "for i in range(N):\n",
    "    if i == 0:\n",
    "        #hacia adelante\n",
    "        yp[i] = (y[i+1]-y[i])/dx\n",
    "    elif i == N-1:\n",
    "        yp[i] = (y[i]-y[i-1])/dx\n",
    "        #hacia atras\n",
    "    else:\n",
    "        #central\n",
    "        yp[i] = (y[i+1]-y[i-1])/2*dx\n",
    "            \n",
    "plt.plot(x,fp(x),'bo')\n",
    "plt.plot(x,yp,'ro')\n",
    "plt.show()"
   ]
  },
  {
   "cell_type": "code",
   "execution_count": 94,
   "metadata": {
    "collapsed": true
   },
   "outputs": [],
   "source": [
    "#Metodo del trapecio"
   ]
  },
  {
   "cell_type": "code",
   "execution_count": 95,
   "metadata": {},
   "outputs": [
    {
     "name": "stdout",
     "output_type": "stream",
     "text": [
      "14.6666880427\n"
     ]
    }
   ],
   "source": [
    "def f(x):\n",
    "    return 3*x**3+2*x**2+5*x+1\n",
    "\n",
    "N = 1000\n",
    "xinc = -2\n",
    "xfin = 2\n",
    "\n",
    "x = np.linspace(xinc,xfin,N)\n",
    "L =xfin-xinc\n",
    "\n",
    "y = f(x)\n",
    "\n",
    "I = 0.\n",
    "for i in range(N-1):\n",
    "    I = I+(y[i]+y[i+1])*(x[i+1]-x[i])/2\n",
    "    \n",
    "print(I)\n"
   ]
  },
  {
   "cell_type": "code",
   "execution_count": 96,
   "metadata": {},
   "outputs": [
    {
     "data": {
      "text/plain": [
       "14.666666666666666"
      ]
     },
     "execution_count": 96,
     "metadata": {},
     "output_type": "execute_result"
    }
   ],
   "source": [
    "44/3"
   ]
  },
  {
   "cell_type": "code",
   "execution_count": 97,
   "metadata": {
    "collapsed": true
   },
   "outputs": [],
   "source": [
    "#Sol. EDO.\n",
    "# *IVP (valor inicial) y *BVP (valor a la frontera)"
   ]
  },
  {
   "cell_type": "code",
   "execution_count": 110,
   "metadata": {},
   "outputs": [
    {
     "data": {
      "image/png": "[encoded data removed]",
      "text/plain": [
       "<matplotlib.figure.Figure at 0x11047f358>"
      ]
     },
     "metadata": {},
     "output_type": "display_data"
    }
   ],
   "source": [
    "#Campo de direcciones\n",
    "def f(v,t,g = 9.81,m = 1.,c=.1):\n",
    "    return g-c*v/m\n",
    "\n",
    "#Condición inicial\n",
    "t = 0.\n",
    "v = 0.\n",
    "\n",
    "#Valores de ciclo\n",
    "tfin = 100.\n",
    "dt = 0.01\n",
    "\n",
    "#solucion\n",
    "tsol = [t]\n",
    "vsol = [v]\n",
    "\n",
    "#sol tiempo Euler\n",
    "while t<tfin:\n",
    "    v = f(v,t)*dt+v\n",
    "    t = t+dt\n",
    "    tsol.append(t)\n",
    "    vsol.append(v)\n",
    "    \n",
    "plt.plot(tsol,vsol)\n",
    "plt.grid(True)\n",
    "plt.show()\n"
   ]
  },
  {
   "cell_type": "code",
   "execution_count": null,
   "metadata": {
    "collapsed": true
   },
   "outputs": [],
   "source": []
  },
  {
   "cell_type": "code",
   "execution_count": null,
   "metadata": {
    "collapsed": true
   },
   "outputs": [],
   "source": []
  },
  {
   "cell_type": "code",
   "execution_count": null,
   "metadata": {
    "collapsed": true
   },
   "outputs": [],
   "source": []
  },
  {
   "cell_type": "code",
   "execution_count": null,
   "metadata": {
    "collapsed": true
   },
   "outputs": [],
   "source": []
  }
 ],
 "metadata": {
  "kernelspec": {
   "display_name": "Python 3",
   "language": "python",
   "name": "python3"
  },
  "language_info": {
   "codemirror_mode": {
    "name": "ipython",
    "version": 3
   },
   "file_extension": ".py",
   "mimetype": "text/x-python",
   "name": "python",
   "nbconvert_exporter": "python",
   "pygments_lexer": "ipython3",
   "version": "3.6.3"
  }
 },
 "nbformat": 4,
 "nbformat_minor": 2
}
